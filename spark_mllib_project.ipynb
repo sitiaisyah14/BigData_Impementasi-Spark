{
 "cells": [
  {
   "cell_type": "code",
   "execution_count": 1,
   "metadata": {},
   "outputs": [
    {
     "data": {
      "text/html": [
       "\n",
       "            <div>\n",
       "                <p><b>SparkSession - in-memory</b></p>\n",
       "                \n",
       "        <div>\n",
       "            <p><b>SparkContext</b></p>\n",
       "\n",
       "            <p><a href=\"http://192.168.56.1:4050\">Spark UI</a></p>\n",
       "\n",
       "            <dl>\n",
       "              <dt>Version</dt>\n",
       "                <dd><code>v3.4.0</code></dd>\n",
       "              <dt>Master</dt>\n",
       "                <dd><code>local</code></dd>\n",
       "              <dt>AppName</dt>\n",
       "                <dd><code>Colab</code></dd>\n",
       "            </dl>\n",
       "        </div>\n",
       "        \n",
       "            </div>\n",
       "        "
      ],
      "text/plain": [
       "<pyspark.sql.session.SparkSession at 0x1e4c69194b0>"
      ]
     },
     "execution_count": 1,
     "metadata": {},
     "output_type": "execute_result"
    }
   ],
   "source": [
    "from pyspark.sql import SparkSession\n",
    "\n",
    "spark = SparkSession.builder\\\n",
    "        .master(\"local\")\\\n",
    "        .appName(\"Colab\")\\\n",
    "        .config('spark.ui.port', '4050')\\\n",
    "        .getOrCreate()\n",
    "spark"
   ]
  },
  {
   "cell_type": "code",
   "execution_count": 2,
   "metadata": {},
   "outputs": [
    {
     "name": "stdout",
     "output_type": "stream",
     "text": [
      "root\n",
      " |-- Index: integer (nullable = true)\n",
      " |-- Organization Id: string (nullable = true)\n",
      " |-- Name: string (nullable = true)\n",
      " |-- Website: string (nullable = true)\n",
      " |-- Country: string (nullable = true)\n",
      " |-- Description: string (nullable = true)\n",
      " |-- Founded: integer (nullable = true)\n",
      " |-- Industry: string (nullable = true)\n",
      " |-- Number of employees: integer (nullable = true)\n",
      "\n"
     ]
    }
   ],
   "source": [
    "df = spark.read.format(\"csv\").load(\"organizations.csv\", header=True, inferSchema=True)\n",
    "\n",
    "df.printSchema()"
   ]
  },
  {
   "cell_type": "code",
   "execution_count": 3,
   "metadata": {},
   "outputs": [
    {
     "name": "stdout",
     "output_type": "stream",
     "text": [
      "+-----+---------------+--------------------+--------------------+--------------------+--------------------+-------+--------------------+-------------------+\n",
      "|Index|Organization Id|                Name|             Website|             Country|         Description|Founded|            Industry|Number of employees|\n",
      "+-----+---------------+--------------------+--------------------+--------------------+--------------------+-------+--------------------+-------------------+\n",
      "|    1|FAB0d41d5b5d22c|         Ferrell LLC|  https://price.net/|    Papua New Guinea|Horizontal empowe...|   1990|            Plastics|               3498|\n",
      "|    2|6A7EdDEA9FaDC52|Mckinney, Riley a...|http://www.hall-b...|             Finland|User-centric syst...|   2015|Glass / Ceramics ...|               4952|\n",
      "|    3|0bFED1ADAE4bcC1|          Hester Ltd|http://sullivan-r...|               China|Switchable scalab...|   1971|       Public Safety|               5287|\n",
      "|    4|2bFC1Be8a4ce42f|      Holder-Sellers| https://becker.com/|        Turkmenistan|De-engineered sys...|   2004|          Automotive|                921|\n",
      "|    5|9eE8A6a4Eb96C24|         Mayer Group|http://www.brewer...|           Mauritius|Synchronized need...|   1991|      Transportation|               7870|\n",
      "|    6|cC757116fe1C085|      Henry-Thompson|   http://morse.net/|             Bahamas|Face-to-face well...|   1992|Primary / Seconda...|               4914|\n",
      "|    7|219233e8aFF1BC3|      Hansen-Everett|https://www.kidd....|            Pakistan|Seamless disinter...|   2018| Publishing Industry|               7832|\n",
      "|    8|ccc93DCF81a31CD|       Mcintosh-Mora|https://www.brook...|Heard Island and ...|Centralized attit...|   1970|     Import / Export|               4389|\n",
      "|    9|0B4F93aA06ED03e|            Carr Inc|    http://ross.com/|              Kuwait|Distributed impac...|   1996|            Plastics|               8167|\n",
      "|   10|738b5aDe6B1C6A5|          Gaines Inc|http://sandoval-h...|          Uzbekistan|Multi-lateral sca...|   1997|Outsourcing / Off...|               9698|\n",
      "|   11|AE61b8Ffebbc476|          Kidd Group|http://www.lyons....|Bouvet Island (Bo...|Proactive foregro...|   2001|Primary / Seconda...|               7473|\n",
      "|   12|eb3B7D06cCdD609|        Crane-Clarke|https://www.sando...|             Denmark|Front-line clear-...|   2014|    Food / Beverages|               9011|\n",
      "|   13|8D0c29189C9798B|Keller, Campos an...|https://www.garne...|             Liberia|Ameliorated direc...|   2020|Museums / Institu...|               2862|\n",
      "|   14|D2c91cc03CA394c|         Glover-Pope|http://www.silva....|United Arab Emirates|Persevering conte...|   2013|    Medical Practice|               9079|\n",
      "|   15|C8AC1eaf9C036F4|      Pacheco-Spears|https://aguilar.com/|              Sweden|Secured logistica...|   1984|            Maritime|                769|\n",
      "|   16|b5D10A14f7a8AfE|         Hodge-Ayers|http://www.archer...|            Honduras|Future-proofed ra...|   1990| Facilities Services|               8508|\n",
      "|   17|68139b5C4De03B4|Bowers, Guerra an...|http://www.carril...|              Uganda|De-engineered tra...|   1972|Primary / Seconda...|               6986|\n",
      "|   18|5c2EffEfdba2BdF|     Mckenzie-Melton|http://montoya-th...|           Hong Kong|Reverse-engineere...|   1998|Investment Manage...|               4589|\n",
      "|   19|ba179F19F7925f5|         Branch-Mann|http://www.lozano...|            Botswana|Adaptive intangib...|   1999|Architecture / Pl...|               7961|\n",
      "|   20|c1Ce9B350BAc66b|      Weiss and Sons|https://barrett.com/|               Korea|Sharable optimal ...|   2011|            Plastics|               5984|\n",
      "+-----+---------------+--------------------+--------------------+--------------------+--------------------+-------+--------------------+-------------------+\n",
      "only showing top 20 rows\n",
      "\n"
     ]
    }
   ],
   "source": [
    "df.show()"
   ]
  },
  {
   "cell_type": "code",
   "execution_count": 4,
   "metadata": {},
   "outputs": [
    {
     "data": {
      "text/plain": [
       "['Index',\n",
       " 'Organization Id',\n",
       " 'Name',\n",
       " 'Website',\n",
       " 'Country',\n",
       " 'Description',\n",
       " 'Founded',\n",
       " 'Industry',\n",
       " 'Number of employees']"
      ]
     },
     "execution_count": 4,
     "metadata": {},
     "output_type": "execute_result"
    }
   ],
   "source": [
    "df.columns"
   ]
  },
  {
   "cell_type": "code",
   "execution_count": 5,
   "metadata": {},
   "outputs": [
    {
     "name": "stdout",
     "output_type": "stream",
     "text": [
      "+---+-----+---------------+--------------------+--------------------+----------------+--------------------+-------+--------------------+-------------------+\n",
      "| id|Index|Organization Id|                Name|             Website|         Country|         Description|Founded|            Industry|Number of employees|\n",
      "+---+-----+---------------+--------------------+--------------------+----------------+--------------------+-------+--------------------+-------------------+\n",
      "|  0|    1|FAB0d41d5b5d22c|         Ferrell LLC|  https://price.net/|Papua New Guinea|Horizontal empowe...|   1990|            Plastics|               3498|\n",
      "|  1|    2|6A7EdDEA9FaDC52|Mckinney, Riley a...|http://www.hall-b...|         Finland|User-centric syst...|   2015|Glass / Ceramics ...|               4952|\n",
      "|  2|    3|0bFED1ADAE4bcC1|          Hester Ltd|http://sullivan-r...|           China|Switchable scalab...|   1971|       Public Safety|               5287|\n",
      "|  3|    4|2bFC1Be8a4ce42f|      Holder-Sellers| https://becker.com/|    Turkmenistan|De-engineered sys...|   2004|          Automotive|                921|\n",
      "|  4|    5|9eE8A6a4Eb96C24|         Mayer Group|http://www.brewer...|       Mauritius|Synchronized need...|   1991|      Transportation|               7870|\n",
      "|  5|    6|cC757116fe1C085|      Henry-Thompson|   http://morse.net/|         Bahamas|Face-to-face well...|   1992|Primary / Seconda...|               4914|\n",
      "+---+-----+---------------+--------------------+--------------------+----------------+--------------------+-------+--------------------+-------------------+\n",
      "only showing top 6 rows\n",
      "\n"
     ]
    }
   ],
   "source": [
    "from pyspark.sql.functions import monotonically_increasing_id\n",
    "\n",
    "df = df.withColumn('id', monotonically_increasing_id())\n",
    "\n",
    "df = df[['id'] + df.columns[:-1]]\n",
    "\n",
    "df.show(6)"
   ]
  },
  {
   "cell_type": "code",
   "execution_count": 6,
   "metadata": {},
   "outputs": [
    {
     "data": {
      "text/plain": [
       "100"
      ]
     },
     "execution_count": 6,
     "metadata": {},
     "output_type": "execute_result"
    }
   ],
   "source": [
    "df.count()"
   ]
  },
  {
   "cell_type": "code",
   "execution_count": 7,
   "metadata": {},
   "outputs": [
    {
     "name": "stdout",
     "output_type": "stream",
     "text": [
      "+------------------------+\n",
      "|avg(Number of employees)|\n",
      "+------------------------+\n",
      "|                 4964.86|\n",
      "+------------------------+\n",
      "\n"
     ]
    }
   ],
   "source": [
    "df.select('Number of employees').agg({'Number of employees': 'avg'}).show()"
   ]
  },
  {
   "cell_type": "code",
   "execution_count": 8,
   "metadata": {},
   "outputs": [
    {
     "name": "stdout",
     "output_type": "stream",
     "text": [
      "+-------+----------+--------------------+---------+------------+------------+----------------+------------+-------------+------------------------+\n",
      "|avg(id)|avg(Index)|avg(Organization Id)|avg(Name)|avg(Website)|avg(Country)|avg(Description)|avg(Founded)|avg(Industry)|avg(Number of employees)|\n",
      "+-------+----------+--------------------+---------+------------+------------+----------------+------------+-------------+------------------------+\n",
      "|   49.5|      50.5|                null|     null|        null|        null|            null|     1995.41|         null|                 4964.86|\n",
      "+-------+----------+--------------------+---------+------------+------------+----------------+------------+-------------+------------------------+\n",
      "\n"
     ]
    }
   ],
   "source": [
    "from pyspark.sql.functions import mean\n",
    "\n",
    "df.select(*[mean(c) for c in df.columns]).show()"
   ]
  },
  {
   "cell_type": "code",
   "execution_count": 9,
   "metadata": {},
   "outputs": [
    {
     "name": "stdout",
     "output_type": "stream",
     "text": [
      "+--------------------+---------+------------+------------------+----------------+-------------+------------+\n",
      "|             Country|avg(Name)|avg(Country)|      avg(Founded)|avg(Description)|avg(Industry)|avg(Website)|\n",
      "+--------------------+---------+------------+------------------+----------------+-------------+------------+\n",
      "|                Chad|     null|        null|            1997.0|            null|         null|        null|\n",
      "|            Anguilla|     null|        null|            1971.0|            null|         null|        null|\n",
      "|Heard Island and ...|     null|        null|            1970.0|            null|         null|        null|\n",
      "|              Sweden|     null|        null|1996.3333333333333|            null|         null|        null|\n",
      "|French Southern T...|     null|        null|            2021.0|            null|         null|        null|\n",
      "|         Philippines|     null|        null|            2021.0|            null|         null|        null|\n",
      "|              Jersey|     null|        null|            1997.0|            null|         null|        null|\n",
      "|             Eritrea|     null|        null|            1997.5|            null|         null|        null|\n",
      "|               Tonga|     null|        null|            1988.0|            null|         null|        null|\n",
      "|            Djibouti|     null|        null|            2002.0|            null|         null|        null|\n",
      "|              Turkey|     null|        null|            2008.0|            null|         null|        null|\n",
      "|United States Vir...|     null|        null|            1993.5|            null|         null|        null|\n",
      "|      Western Sahara|     null|        null|            2001.0|            null|         null|        null|\n",
      "|Northern Mariana ...|     null|        null|            1974.0|            null|         null|        null|\n",
      "|             Germany|     null|        null|            2016.0|            null|         null|        null|\n",
      "|               Palau|     null|        null|            2021.0|            null|         null|        null|\n",
      "|              Taiwan|     null|        null|            1990.0|            null|         null|        null|\n",
      "|                Togo|     null|        null|            1992.5|            null|         null|        null|\n",
      "|             Reunion|     null|        null|            1978.0|            null|         null|        null|\n",
      "|             Belgium|     null|        null|            1991.0|            null|         null|        null|\n",
      "+--------------------+---------+------------+------------------+----------------+-------------+------------+\n",
      "only showing top 20 rows\n",
      "\n"
     ]
    }
   ],
   "source": [
    "df.groupby('Country').agg({col: 'avg' for col in df.columns[3:-1]}).show()"
   ]
  },
  {
   "cell_type": "code",
   "execution_count": 10,
   "metadata": {},
   "outputs": [],
   "source": [
    "from pyspark.ml.feature import VectorAssembler\n",
    "featureassembler=VectorAssembler(inputCols=[\"Index\", \"Founded\"], outputCol=\"Independent Features\")"
   ]
  },
  {
   "cell_type": "code",
   "execution_count": 11,
   "metadata": {},
   "outputs": [],
   "source": [
    "output=featureassembler.transform(df)"
   ]
  },
  {
   "cell_type": "code",
   "execution_count": 12,
   "metadata": {},
   "outputs": [
    {
     "name": "stdout",
     "output_type": "stream",
     "text": [
      "+---+-----+---------------+--------------------+--------------------+--------------------+--------------------+-------+--------------------+-------------------+--------------------+\n",
      "| id|Index|Organization Id|                Name|             Website|             Country|         Description|Founded|            Industry|Number of employees|Independent Features|\n",
      "+---+-----+---------------+--------------------+--------------------+--------------------+--------------------+-------+--------------------+-------------------+--------------------+\n",
      "|  0|    1|FAB0d41d5b5d22c|         Ferrell LLC|  https://price.net/|    Papua New Guinea|Horizontal empowe...|   1990|            Plastics|               3498|        [1.0,1990.0]|\n",
      "|  1|    2|6A7EdDEA9FaDC52|Mckinney, Riley a...|http://www.hall-b...|             Finland|User-centric syst...|   2015|Glass / Ceramics ...|               4952|        [2.0,2015.0]|\n",
      "|  2|    3|0bFED1ADAE4bcC1|          Hester Ltd|http://sullivan-r...|               China|Switchable scalab...|   1971|       Public Safety|               5287|        [3.0,1971.0]|\n",
      "|  3|    4|2bFC1Be8a4ce42f|      Holder-Sellers| https://becker.com/|        Turkmenistan|De-engineered sys...|   2004|          Automotive|                921|        [4.0,2004.0]|\n",
      "|  4|    5|9eE8A6a4Eb96C24|         Mayer Group|http://www.brewer...|           Mauritius|Synchronized need...|   1991|      Transportation|               7870|        [5.0,1991.0]|\n",
      "|  5|    6|cC757116fe1C085|      Henry-Thompson|   http://morse.net/|             Bahamas|Face-to-face well...|   1992|Primary / Seconda...|               4914|        [6.0,1992.0]|\n",
      "|  6|    7|219233e8aFF1BC3|      Hansen-Everett|https://www.kidd....|            Pakistan|Seamless disinter...|   2018| Publishing Industry|               7832|        [7.0,2018.0]|\n",
      "|  7|    8|ccc93DCF81a31CD|       Mcintosh-Mora|https://www.brook...|Heard Island and ...|Centralized attit...|   1970|     Import / Export|               4389|        [8.0,1970.0]|\n",
      "|  8|    9|0B4F93aA06ED03e|            Carr Inc|    http://ross.com/|              Kuwait|Distributed impac...|   1996|            Plastics|               8167|        [9.0,1996.0]|\n",
      "|  9|   10|738b5aDe6B1C6A5|          Gaines Inc|http://sandoval-h...|          Uzbekistan|Multi-lateral sca...|   1997|Outsourcing / Off...|               9698|       [10.0,1997.0]|\n",
      "| 10|   11|AE61b8Ffebbc476|          Kidd Group|http://www.lyons....|Bouvet Island (Bo...|Proactive foregro...|   2001|Primary / Seconda...|               7473|       [11.0,2001.0]|\n",
      "| 11|   12|eb3B7D06cCdD609|        Crane-Clarke|https://www.sando...|             Denmark|Front-line clear-...|   2014|    Food / Beverages|               9011|       [12.0,2014.0]|\n",
      "| 12|   13|8D0c29189C9798B|Keller, Campos an...|https://www.garne...|             Liberia|Ameliorated direc...|   2020|Museums / Institu...|               2862|       [13.0,2020.0]|\n",
      "| 13|   14|D2c91cc03CA394c|         Glover-Pope|http://www.silva....|United Arab Emirates|Persevering conte...|   2013|    Medical Practice|               9079|       [14.0,2013.0]|\n",
      "| 14|   15|C8AC1eaf9C036F4|      Pacheco-Spears|https://aguilar.com/|              Sweden|Secured logistica...|   1984|            Maritime|                769|       [15.0,1984.0]|\n",
      "| 15|   16|b5D10A14f7a8AfE|         Hodge-Ayers|http://www.archer...|            Honduras|Future-proofed ra...|   1990| Facilities Services|               8508|       [16.0,1990.0]|\n",
      "| 16|   17|68139b5C4De03B4|Bowers, Guerra an...|http://www.carril...|              Uganda|De-engineered tra...|   1972|Primary / Seconda...|               6986|       [17.0,1972.0]|\n",
      "| 17|   18|5c2EffEfdba2BdF|     Mckenzie-Melton|http://montoya-th...|           Hong Kong|Reverse-engineere...|   1998|Investment Manage...|               4589|       [18.0,1998.0]|\n",
      "| 18|   19|ba179F19F7925f5|         Branch-Mann|http://www.lozano...|            Botswana|Adaptive intangib...|   1999|Architecture / Pl...|               7961|       [19.0,1999.0]|\n",
      "| 19|   20|c1Ce9B350BAc66b|      Weiss and Sons|https://barrett.com/|               Korea|Sharable optimal ...|   2011|            Plastics|               5984|       [20.0,2011.0]|\n",
      "+---+-----+---------------+--------------------+--------------------+--------------------+--------------------+-------+--------------------+-------------------+--------------------+\n",
      "only showing top 20 rows\n",
      "\n"
     ]
    }
   ],
   "source": [
    "output.show()"
   ]
  },
  {
   "cell_type": "code",
   "execution_count": 13,
   "metadata": {},
   "outputs": [
    {
     "data": {
      "text/plain": [
       "['id',\n",
       " 'Index',\n",
       " 'Organization Id',\n",
       " 'Name',\n",
       " 'Website',\n",
       " 'Country',\n",
       " 'Description',\n",
       " 'Founded',\n",
       " 'Industry',\n",
       " 'Number of employees',\n",
       " 'Independent Features']"
      ]
     },
     "execution_count": 13,
     "metadata": {},
     "output_type": "execute_result"
    }
   ],
   "source": [
    "output.columns"
   ]
  },
  {
   "cell_type": "code",
   "execution_count": 14,
   "metadata": {},
   "outputs": [],
   "source": [
    "finalized_data=output.select(\"Independent Features\", \"Founded\")"
   ]
  },
  {
   "cell_type": "code",
   "execution_count": 15,
   "metadata": {},
   "outputs": [
    {
     "name": "stdout",
     "output_type": "stream",
     "text": [
      "+--------------------+-------+\n",
      "|Independent Features|Founded|\n",
      "+--------------------+-------+\n",
      "|        [1.0,1990.0]|   1990|\n",
      "|        [2.0,2015.0]|   2015|\n",
      "|        [3.0,1971.0]|   1971|\n",
      "|        [4.0,2004.0]|   2004|\n",
      "|        [5.0,1991.0]|   1991|\n",
      "|        [6.0,1992.0]|   1992|\n",
      "|        [7.0,2018.0]|   2018|\n",
      "|        [8.0,1970.0]|   1970|\n",
      "|        [9.0,1996.0]|   1996|\n",
      "|       [10.0,1997.0]|   1997|\n",
      "|       [11.0,2001.0]|   2001|\n",
      "|       [12.0,2014.0]|   2014|\n",
      "|       [13.0,2020.0]|   2020|\n",
      "|       [14.0,2013.0]|   2013|\n",
      "|       [15.0,1984.0]|   1984|\n",
      "|       [16.0,1990.0]|   1990|\n",
      "|       [17.0,1972.0]|   1972|\n",
      "|       [18.0,1998.0]|   1998|\n",
      "|       [19.0,1999.0]|   1999|\n",
      "|       [20.0,2011.0]|   2011|\n",
      "+--------------------+-------+\n",
      "only showing top 20 rows\n",
      "\n"
     ]
    }
   ],
   "source": [
    "finalized_data.show()"
   ]
  },
  {
   "cell_type": "code",
   "execution_count": 22,
   "metadata": {},
   "outputs": [],
   "source": [
    "from pyspark.ml.regression import LinearRegression\n",
    "##train test split\n",
    "train_data, test_data=finalized_data.randomSplit([0.70,0.30])\n",
    "regressor=LinearRegression(featuresCol='Independent Features', labelCol='Founded')\n",
    "regressor=regressor.fit(train_data)"
   ]
  },
  {
   "cell_type": "code",
   "execution_count": 23,
   "metadata": {},
   "outputs": [
    {
     "data": {
      "text/plain": [
       "DenseVector([-0.0, 1.0])"
      ]
     },
     "execution_count": 23,
     "metadata": {},
     "output_type": "execute_result"
    }
   ],
   "source": [
    "### Coefficients\n",
    "regressor.coefficients"
   ]
  },
  {
   "cell_type": "code",
   "execution_count": 24,
   "metadata": {},
   "outputs": [
    {
     "data": {
      "text/plain": [
       "1.9620838550216413e-09"
      ]
     },
     "execution_count": 24,
     "metadata": {},
     "output_type": "execute_result"
    }
   ],
   "source": [
    "### Intercepts\n",
    "regressor.intercept"
   ]
  },
  {
   "cell_type": "code",
   "execution_count": 25,
   "metadata": {},
   "outputs": [],
   "source": [
    "### Predicition\n",
    "pred_results=regressor.evaluate(test_data)"
   ]
  },
  {
   "cell_type": "code",
   "execution_count": 26,
   "metadata": {},
   "outputs": [
    {
     "name": "stdout",
     "output_type": "stream",
     "text": [
      "+--------------------+-------+------------------+\n",
      "|Independent Features|Founded|        prediction|\n",
      "+--------------------+-------+------------------+\n",
      "|        [8.0,1970.0]|   1970|1970.0000000000296|\n",
      "|       [10.0,1997.0]|   1997|1997.0000000000027|\n",
      "|       [13.0,2020.0]|   2020|  2019.99999999998|\n",
      "|       [16.0,1990.0]|   1990|1990.0000000000089|\n",
      "|       [21.0,1986.0]|   1986|1986.0000000000123|\n",
      "|       [23.0,2014.0]|   2014|2013.9999999999845|\n",
      "|       [25.0,2002.0]|   2002|2001.9999999999961|\n",
      "|       [33.0,1972.0]|   1972|1972.0000000000246|\n",
      "|       [34.0,1981.0]|   1981|1981.0000000000155|\n",
      "|       [35.0,2020.0]|   2020| 2019.999999999977|\n",
      "|       [36.0,2010.0]|   2010|2009.9999999999868|\n",
      "|       [37.0,2013.0]|   2013|2012.9999999999839|\n",
      "|       [39.0,2012.0]|   2012|2011.9999999999845|\n",
      "|       [41.0,2006.0]|   2006|2005.9999999999902|\n",
      "|       [43.0,2021.0]|   2021|2020.9999999999752|\n",
      "|       [45.0,1986.0]|   1986|1986.0000000000093|\n",
      "|       [47.0,1976.0]|   1976|1976.0000000000189|\n",
      "|       [55.0,1971.0]|   1971|1971.0000000000227|\n",
      "+--------------------+-------+------------------+\n",
      "only showing top 18 rows\n",
      "\n"
     ]
    }
   ],
   "source": [
    "pred_results.predictions.show(18)"
   ]
  },
  {
   "cell_type": "code",
   "execution_count": 21,
   "metadata": {},
   "outputs": [
    {
     "data": {
      "text/plain": [
       "(1.3339255626002947e-11, 2.2410467336390365e-22)"
      ]
     },
     "execution_count": 21,
     "metadata": {},
     "output_type": "execute_result"
    }
   ],
   "source": [
    "pred_results.meanAbsoluteError, pred_results.meanSquaredError"
   ]
  }
 ],
 "metadata": {
  "kernelspec": {
   "display_name": "Python 3",
   "language": "python",
   "name": "python3"
  },
  "language_info": {
   "codemirror_mode": {
    "name": "ipython",
    "version": 3
   },
   "file_extension": ".py",
   "mimetype": "text/x-python",
   "name": "python",
   "nbconvert_exporter": "python",
   "pygments_lexer": "ipython3",
   "version": "3.10.1"
  },
  "orig_nbformat": 4
 },
 "nbformat": 4,
 "nbformat_minor": 2
}
